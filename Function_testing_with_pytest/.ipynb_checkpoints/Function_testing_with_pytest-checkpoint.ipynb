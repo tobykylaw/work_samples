{
 "cells": [
  {
   "cell_type": "code",
   "execution_count": null,
   "id": "3f496dc0",
   "metadata": {},
   "outputs": [],
   "source": [
    "# ==============================================================+\n",
    "# Function Testing with pytest                                  |\n",
    "# Author    : Toby Law                                          |                                   |\n",
    "# Date      : 10/29/2021                                        |\n",
    "# ==============================================================+"
   ]
  },
  {
   "cell_type": "markdown",
   "id": "e8fff82b",
   "metadata": {},
   "source": [
    "## Function testing with pytest\n",
    "*****"
   ]
  },
  {
   "cell_type": "markdown",
   "id": "38a61795",
   "metadata": {},
   "source": [
    "### Function to be tested: `cipher`, enciphers `text` by replacing each letter by another some fixed number of positions down the alphabet."
   ]
  },
  {
   "cell_type": "code",
   "execution_count": 1,
   "id": "86a58be1",
   "metadata": {},
   "outputs": [],
   "source": [
    "def cipher(text, shift, encrypt=True):\n",
    "    alphabet = 'abcdefghijklmnopqrstuvwxyzABCDEFGHIJKLMNOPQRSTUVWXYZ'\n",
    "    new_text = ''\n",
    "    for c in text:\n",
    "        index = alphabet.find(c)\n",
    "        if index == -1:\n",
    "            new_text += c\n",
    "        else:\n",
    "            new_index = index + shift if encrypt == True else index - shift\n",
    "            new_index %= len(alphabet) #this line conforms shift values larger than the length of alphabet\n",
    "            new_text += alphabet[new_index:new_index+1]\n",
    "    return new_text"
   ]
  },
  {
   "cell_type": "markdown",
   "id": "23e65920",
   "metadata": {},
   "source": [
    "### 1. Testing the `cipher` function"
   ]
  },
  {
   "cell_type": "markdown",
   "id": "9bdf175c",
   "metadata": {},
   "source": [
    "   ### (a) Checking whether `cipher` works on a single word"
   ]
  },
  {
   "cell_type": "code",
   "execution_count": null,
   "id": "c3c1d0e4",
   "metadata": {},
   "outputs": [],
   "source": [
    "def test_singleword():\n",
    "    \"\"\"Testing the cipher function on single words.\"\"\"\n",
    "    actual = cipher(text = \"Hello\", shift = 2)\n",
    "    expected = \"Jgnnq\"\n",
    "    assert actual == expected, \"cipher has failed on a single word.\""
   ]
  },
  {
   "cell_type": "markdown",
   "id": "0b686ff9",
   "metadata": {},
   "source": [
    "### (b) Checking whether negative _shift_ values are accepted"
   ]
  },
  {
   "cell_type": "code",
   "execution_count": null,
   "id": "37b7c20d",
   "metadata": {},
   "outputs": [],
   "source": [
    "def test_negshift():\n",
    "    \"\"\"Testing if negative shift values are accepted.\"\"\"\n",
    "    actual = cipher(text = \"Hello\", shift = -1)\n",
    "    expected = \"Gdkkn\"\n",
    "    assert actual == expected, \"cipher did not accept negative shift values.\""
   ]
  },
  {
   "cell_type": "markdown",
   "id": "36e884cd",
   "metadata": {},
   "source": [
    "### (c) Check if the original text is returned if it contains symbols not within the alphabet"
   ]
  },
  {
   "cell_type": "code",
   "execution_count": null,
   "id": "a052bf72",
   "metadata": {},
   "outputs": [],
   "source": [
    "def test_ooa():\n",
    "    \"\"\"Testing if out-of-alphabet values are returned as they are\"\"\"\n",
    "    actual = cipher(text = \"Hel123lo\", shift = 2)\n",
    "    expected = 'Jgn123nq'\n",
    "    assert actual == expected, \"Out-of-alphabet values were modified.\""
   ]
  },
  {
   "cell_type": "markdown",
   "id": "c7e8a913",
   "metadata": {},
   "source": [
    "### (d)  Checking if submitting string _shift_ values return the correct exception"
   ]
  },
  {
   "cell_type": "code",
   "execution_count": null,
   "id": "38d43604",
   "metadata": {},
   "outputs": [],
   "source": [
    "def test_valueerror_on_string_shift():\n",
    "    \"\"\"Test if submitting a string to shift argument returns TypeError.\"\"\"\n",
    "    with pytest.raises(TypeError) as exception_info:\n",
    "        cipher(text = \"Hello\", shift = 'two')"
   ]
  },
  {
   "cell_type": "markdown",
   "id": "802e3f86",
   "metadata": {},
   "source": [
    "### (e) Please see `test_cipher.py` script, and screenshot below for the output of tests in parts 1(a) - (d)."
   ]
  },
  {
   "cell_type": "markdown",
   "id": "a8d0442a",
   "metadata": {},
   "source": [
    "<img src=\"test_cipher_results.JPG\" width=\"600\" height=\"600\"/>"
   ]
  },
  {
   "cell_type": "markdown",
   "id": "f159fb47",
   "metadata": {},
   "source": [
    "### (f) Use `@pytest.fixture` to define and submit multiple example test strings and the desired shift to the `test_multiple` function. The _for_ loop is used to iterate over the `test_pairs`, and assert for each case whether the string variation can be handled by `cipher`."
   ]
  },
  {
   "cell_type": "code",
   "execution_count": null,
   "id": "b57cc957",
   "metadata": {},
   "outputs": [],
   "source": [
    "@pytest.fixture\n",
    "def test_pairs():\n",
    "    return [\n",
    "        (\"MixeD\", \"PlAhG\", 3),\n",
    "        (\"lower\", \"qtBjw\", 5),\n",
    "        (\"UPPER\", \"Avvkx\", 32),\n",
    "        (\"A sentence WITH spaCes\", \"H zluAlujl dPaO zwhJlz\", 7)\n",
    "    ]\n",
    "\n",
    "def test_multiple(test_pairs):\n",
    "    \"\"\"Testing for multiple string variations.\"\"\"\n",
    "    for pair in test_pairs:\n",
    "        example = pair[0]\n",
    "        expected = pair[1]\n",
    "        result = cipher(text = example, shift = pair[2], encrypt = True)\n",
    "        assert result == expected, \"cipher cannot handle all string variations.\""
   ]
  },
  {
   "cell_type": "markdown",
   "id": "02fceaca",
   "metadata": {},
   "source": [
    "### (g) Write a test function that calls `cipher` twice, once to encrypt and once to decrypt, and compare the outcome to the original string. Use` @pytest.mark.parametrize` to run this test for `shift` values from 1 to 10."
   ]
  },
  {
   "cell_type": "code",
   "execution_count": null,
   "id": "f64a008f",
   "metadata": {},
   "outputs": [],
   "source": [
    "@pytest.mark.parametrize(\"shift\", list(range(1, 11)))\n",
    "\n",
    "def test_integrate(shift):\n",
    "    \"\"\"Check that cipher can encrypt and decrypt faithfullya.\"\"\"\n",
    "    original = \"Switching Back and Forth.\"\n",
    "    encrypt = cipher(text = original, shift = shift, encrypt = True)\n",
    "    decrypt = cipher(text = encrypt, shift = shift, encrypt = False)\n",
    "    assert original == decrypt, \"Decrypted text not the same as original!\""
   ]
  },
  {
   "cell_type": "markdown",
   "id": "301653d4",
   "metadata": {},
   "source": [
    "#### All of 1(a) - (g) are added to the `test_cipher.py` script, all test results are in screenshot below."
   ]
  },
  {
   "cell_type": "markdown",
   "id": "71d102ff",
   "metadata": {},
   "source": [
    "<img src=\"test_cipher_all_results.JPG\" width=\"600\" height=\"600\"/>"
   ]
  },
  {
   "cell_type": "markdown",
   "id": "8132434e",
   "metadata": {},
   "source": [
    "### 2. Added test methods in 1(a) - (d) to a test class. Parametrized the class so that 5 test cases below will be sent to all test functions within this class. "
   ]
  },
  {
   "cell_type": "code",
   "execution_count": null,
   "id": "a8d69761",
   "metadata": {},
   "outputs": [],
   "source": [
    "test_cases = [\n",
    "    (\"Hello!\", \"two\", \"Jgnnq!\"),\n",
    "    (\"MixeD\", 3, \"PlAhG\"),\n",
    "    (\"lower\", 5, \"qtBjw\"),\n",
    "    (\"UPPER\", -32, \"ojjYl\"),\n",
    "    (\"A sentence WITH spaCes?\", -7, \"t lXgmXgVX PBMA liTvXl?\")\n",
    "]\n",
    "\n",
    "@pytest.mark.parametrize('example, shift, result', test_cases)\n",
    "\n",
    "class TestCipher:\n",
    "    def test_singleword(self, example, shift, result):\n",
    "        \"\"\"Testing the cipher function on single words.\"\"\"\n",
    "        if isinstance(shift, int):\n",
    "            actual = cipher(text = example, shift = shift)\n",
    "            expected = result\n",
    "            assert actual == expected, \"cipher has failed on a single word.\"\n",
    "    \n",
    "    def test_negshift(self, example, shift, result):\n",
    "        \"\"\"Testing if negative shift values are accepted.\"\"\"\n",
    "        if isinstance(shift, int) and shift < 0:\n",
    "            actual = cipher(text = example, shift = shift)\n",
    "            expected = result\n",
    "            assert actual == expected, \"cipher did not accept negative shift values.\"\n",
    "\n",
    "    def test_ooa(self, example, shift, result):\n",
    "        \"\"\"Testing if out-of-alphabet values are returned as they are\"\"\"\n",
    "        symbol_regex = re.compile(\"[^A-Za-z]+\")\n",
    "        if isinstance(shift, int) and symbol_regex.search(example):\n",
    "            actual = cipher(text = example, shift = shift)\n",
    "            expected = result\n",
    "            assert actual == expected, \"Out-of-alphabet values were modified.\"\n",
    "            \n",
    "    def test_valueerror_on_string_shift(self, example, shift, result):\n",
    "        \"\"\"Test if submitting a string to shift argument returns TypeError.\"\"\"\n",
    "        if isinstance(shift, str):\n",
    "            with pytest.raises(TypeError) as exception_info:\n",
    "                cipher(text = example, shift = shift)\n",
    "    "
   ]
  },
  {
   "cell_type": "markdown",
   "id": "751a1a61",
   "metadata": {},
   "source": [
    "### Please see `test_cipher_class.py` script, and screenshot below of its command line output."
   ]
  },
  {
   "cell_type": "markdown",
   "id": "c0446738",
   "metadata": {},
   "source": [
    "<img src=\"test_cipher_class_results.JPG\" height = 600 width = 600/>"
   ]
  },
  {
   "cell_type": "markdown",
   "id": "3bad9ca0",
   "metadata": {},
   "source": [
    "### 3. Use the `hypothesis` package to generate arbitrary text and integer `shift` inputs to test the `cipher` function "
   ]
  },
  {
   "cell_type": "code",
   "execution_count": null,
   "id": "c4b2ce47",
   "metadata": {},
   "outputs": [],
   "source": [
    "@given(text = st.text(min_size = 5, max_size = 10), shift = st.integers()) \n",
    "@settings(max_examples = 200)\n",
    "def test_hypothesis(text, shift):\n",
    "    \"\"\"Testing the cipher function on single words.\"\"\"\n",
    "    actual = cipher(text = text, shift = shift, encrypt = True)\n",
    "    expected = cipher(text = actual, shift = shift, encrypt = False)\n",
    "    assert text == expected, \"cipher has failed the hypothesis test.\""
   ]
  },
  {
   "cell_type": "markdown",
   "id": "4c4e4a35",
   "metadata": {},
   "source": [
    "#### Please refer to the hypothesis.py script for the setup, and see screeshot below for the command line output. Note that 200 different sets of inputs were run."
   ]
  },
  {
   "cell_type": "markdown",
   "id": "e54927a8",
   "metadata": {},
   "source": [
    "<img src=\"run_hypothesis_results.JPG\" height  = 600 width = 600/>"
   ]
  }
 ],
 "metadata": {
  "kernelspec": {
   "display_name": "Python 3",
   "language": "python",
   "name": "python3"
  },
  "language_info": {
   "codemirror_mode": {
    "name": "ipython",
    "version": 3
   },
   "file_extension": ".py",
   "mimetype": "text/x-python",
   "name": "python",
   "nbconvert_exporter": "python",
   "pygments_lexer": "ipython3",
   "version": "3.8.8"
  }
 },
 "nbformat": 4,
 "nbformat_minor": 5
}
