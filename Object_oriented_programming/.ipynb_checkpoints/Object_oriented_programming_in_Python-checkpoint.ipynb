{
 "cells": [
  {
   "cell_type": "code",
   "execution_count": null,
   "id": "9130b00c",
   "metadata": {},
   "outputs": [],
   "source": [
    "# ==============================================================+\n",
    "# Object-oriented programming in Python                         |\n",
    "# Author    : Toby Law                                          |                                   |\n",
    "# Date      : 10/21/2021                                        |\n",
    "# ==============================================================+"
   ]
  },
  {
   "cell_type": "markdown",
   "id": "59cdb661",
   "metadata": {},
   "source": [
    "## Object oriented programming\n",
    "***********"
   ]
  },
  {
   "cell_type": "markdown",
   "id": "19901b96",
   "metadata": {},
   "source": [
    "## 1. Recipe class"
   ]
  },
  {
   "cell_type": "markdown",
   "id": "c13551e0",
   "metadata": {},
   "source": [
    "### a) Create a _Recipe_ class intialized with _name_, _ingredients_, _meal_, _time_ as attributes."
   ]
  },
  {
   "cell_type": "code",
   "execution_count": 1,
   "id": "272337b8",
   "metadata": {},
   "outputs": [],
   "source": [
    "class Recipe():\n",
    "    def __init__(self, name = \"\", ingredients = {}, meal = \"\", time = int()):\n",
    "        self.name = name\n",
    "        self.ingredients = ingredients\n",
    "        self.meal = meal\n",
    "        self.time = time"
   ]
  },
  {
   "cell_type": "code",
   "execution_count": 2,
   "id": "0afdc5f9",
   "metadata": {},
   "outputs": [
    {
     "name": "stdout",
     "output_type": "stream",
     "text": [
      "<__main__.Recipe object at 0x00000220BB473AF0>\n"
     ]
    }
   ],
   "source": [
    "# checking\n",
    "test_recipe = Recipe(\"\")\n",
    "print(test_recipe)"
   ]
  },
  {
   "cell_type": "markdown",
   "id": "10a3e53e",
   "metadata": {},
   "source": [
    "### b) Add a method that prints the name of the recipe, the time it takes to prepare, and the type of meal. Initialize 5 recipes of choice, 2 for dinner and 3 for dessert."
   ]
  },
  {
   "cell_type": "code",
   "execution_count": 3,
   "id": "53614442",
   "metadata": {},
   "outputs": [],
   "source": [
    "class Recipe():\n",
    "    def __init__(self, name = \"\", ingredients = {}, meal = \"\", time = int()):\n",
    "        self.name = name\n",
    "        self.ingredients = ingredients\n",
    "        self.meal = meal\n",
    "        self.time = time\n",
    "        \n",
    "    def __str__(self):\n",
    "        return (\"Recipe name: \" + self.name + \"; \" + \\\n",
    "                \"Preparation time: \" + str(self.time) + \"; \" + \\\n",
    "                \"Type of meal: \" + self.meal)"
   ]
  },
  {
   "cell_type": "markdown",
   "id": "739111ae",
   "metadata": {},
   "source": [
    "### Initialize recipes: Meatghetti and Spagballs, Pasta Aglio e Olio, Creme Brulee, Courtesan au Chocolat and Zelda Monster Cake :p"
   ]
  },
  {
   "cell_type": "code",
   "execution_count": 5,
   "id": "495c0c41",
   "metadata": {},
   "outputs": [
    {
     "name": "stdout",
     "output_type": "stream",
     "text": [
      "Recipe name: Meatghetti and Spagballs; Preparation time: 45; Type of meal: Dinner\n",
      "Recipe name: Pasta Aglio e Olio; Preparation time: 20; Type of meal: Dinner\n",
      "Recipe name: Creme Brulee; Preparation time: 60; Type of meal: Dessert\n",
      "Recipe name: Courtesan au Chocolat; Preparation time: 120; Type of meal: Dessert\n",
      "Recipe name: Zelda Monster Cake; Preparation time: 90; Type of meal: Dessert\n"
     ]
    }
   ],
   "source": [
    "meatspag_dict = {\"Meat\": 300, \"Spaghetti\": 100, \"Tomatoes\": 500, \"Spices\": 20}\n",
    "\n",
    "aglioeolio_dict = {\"Spaghetti\": 100, \"Garlic\": 50, \"Chilli Flakes\": 50, \"Olive Oil\": 50, \"Parsley\": 20, \"Lemon\": 10}\n",
    "\n",
    "cremebrulee_dict = {\"Heavy Cream\": 300, \"Sugar\": 100, \"Eggs\": 50, \"Milk\": 50}\n",
    "\n",
    "courtauchoc_dict = {\"Butter\": 200, \"Flour\": 250, \"Sugar\": 60, \"Eggs\": 80, \"Milk\": 750, \"Chocolate\": 240}\n",
    "\n",
    "monstercake_dict = {\"Butter\": 200, \"Flour\": 250, \"Sugar\": 60, \"Eggs\": 80, \"Milk\": 750, \"Chocolate\": 240,\\\n",
    "                    \"Ube\": 120, \"Durian\": 120}\n",
    "\n",
    "\n",
    "meat_spag = Recipe(\"Meatghetti and Spagballs\", ingredients = meatspag_dict, meal = \"Dinner\", time = 45)\n",
    "aglioeolio = Recipe(\"Pasta Aglio e Olio\", ingredients = aglioeolio_dict, meal = \"Dinner\", time = 20)\n",
    "cremebrulee = Recipe(\"Creme Brulee\", ingredients = cremebrulee_dict, meal = \"Dessert\", time = 60)\n",
    "courtauchoc = Recipe(\"Courtesan au Chocolat\", ingredients = courtauchoc_dict, meal = \"Dessert\", time = 120)\n",
    "monstercake = Recipe(\"Zelda Monster Cake\", ingredients = monstercake_dict, meal = \"Dessert\", time = 90)\n",
    "\n",
    "# print recipes\n",
    "print(meat_spag)\n",
    "print(aglioeolio)\n",
    "print(cremebrulee)\n",
    "print(courtauchoc)\n",
    "print(monstercake)"
   ]
  },
  {
   "cell_type": "markdown",
   "id": "9a88fee7",
   "metadata": {},
   "source": [
    "### c) Add a method that provides the total weight of all ingredients, and call the method for one specific recipe."
   ]
  },
  {
   "cell_type": "code",
   "execution_count": 6,
   "id": "dfb83f44",
   "metadata": {},
   "outputs": [],
   "source": [
    "class Recipe():\n",
    "    def __init__(self, name = \"\", ingredients = {}, meal = \"\", time = int()):\n",
    "        self.name = name\n",
    "        self.ingredients = ingredients\n",
    "        self.meal = meal\n",
    "        self.time = time\n",
    "        \n",
    "    def __str__(self):\n",
    "        return (\"Recipe name: \" + self.name + \"; \" + \\\n",
    "                \"Preparation time: \" + str(self.time) + \"; \" + \\\n",
    "                \"Type of meal: \" + self.meal)\n",
    "    \n",
    "    def total_ingredient_weight(self):\n",
    "        \"\"\"Find total weight of ingredients used in a recipe.\"\"\"\n",
    "        total_weight = sum(self.ingredients.values())\n",
    "        return total_weight"
   ]
  },
  {
   "cell_type": "markdown",
   "id": "f0377e57",
   "metadata": {},
   "source": [
    "### Check the total weight of Monster Cake ingredients"
   ]
  },
  {
   "cell_type": "code",
   "execution_count": 7,
   "id": "221807dc",
   "metadata": {},
   "outputs": [
    {
     "data": {
      "text/plain": [
       "1820"
      ]
     },
     "execution_count": 7,
     "metadata": {},
     "output_type": "execute_result"
    }
   ],
   "source": [
    "Recipe.total_ingredient_weight(monstercake)"
   ]
  },
  {
   "cell_type": "markdown",
   "id": "1c5ecf3f",
   "metadata": {},
   "source": [
    "## 2. Organizing recipes in a cookbook"
   ]
  },
  {
   "cell_type": "markdown",
   "id": "0e3d0441",
   "metadata": {},
   "source": [
    "### a) Create a _Coobook_ class to contain a list of _Recipe_ class objects"
   ]
  },
  {
   "cell_type": "code",
   "execution_count": 8,
   "id": "49de470d",
   "metadata": {},
   "outputs": [],
   "source": [
    "class Cookbook():\n",
    "    def __init__(self):\n",
    "        self.recipe_list = []"
   ]
  },
  {
   "cell_type": "markdown",
   "id": "b30d2b1b",
   "metadata": {},
   "source": [
    "### b) Create a _get_meal_type_ method with a _meal_type_ parameter, which returns a list of all recipes fitting the specified meal type. Also include an _add_recipe_ method to append new recipes to the list."
   ]
  },
  {
   "cell_type": "code",
   "execution_count": 9,
   "id": "a16a6a53",
   "metadata": {},
   "outputs": [],
   "source": [
    "class Cookbook():\n",
    "    def __init__(self):\n",
    "        self.recipe_list = []\n",
    "    \n",
    "    def add_recipe(self, Recipe_cls_object):\n",
    "        \"\"\"Adds recipes to the cookbook\"\"\"\n",
    "        self.recipe_list.append(Recipe_cls_object)\n",
    "    \n",
    "    def get_meal_type(self, meal_type):\n",
    "        \"\"\"Returns all recipes of a certain meal type in the cookbook.\"\"\"\n",
    "        selected_type_recipes = [recipe for recipe in self.recipe_list if recipe.meal == meal_type]\n",
    "        for recipe in selected_type_recipes:\n",
    "            print(recipe.name)"
   ]
  },
  {
   "cell_type": "markdown",
   "id": "18cba51c",
   "metadata": {},
   "source": [
    "### c) Add the 5 recipes initialized above to the cookbook, and use the _get_meal_type_ method to print all names of dessert recipes."
   ]
  },
  {
   "cell_type": "code",
   "execution_count": 10,
   "id": "16078bd1",
   "metadata": {},
   "outputs": [
    {
     "name": "stdout",
     "output_type": "stream",
     "text": [
      "Creme Brulee\n",
      "Courtesan au Chocolat\n",
      "Zelda Monster Cake\n"
     ]
    }
   ],
   "source": [
    "my_cookbook = Cookbook()\n",
    "my_cookbook.add_recipe(meat_spag)\n",
    "my_cookbook.add_recipe(aglioeolio)\n",
    "my_cookbook.add_recipe(cremebrulee)\n",
    "my_cookbook.add_recipe(courtauchoc)\n",
    "my_cookbook.add_recipe(monstercake)\n",
    "\n",
    "my_cookbook.get_meal_type(\"Dessert\")"
   ]
  },
  {
   "cell_type": "markdown",
   "id": "aa68a961",
   "metadata": {},
   "source": [
    "### d) Add a method that takes in a list or set of _available_ingredients_ and a boolean _match_all_, to return recipes where some (match_all = False) or all (match_all = True) of the ingredients are available at home. "
   ]
  },
  {
   "cell_type": "markdown",
   "id": "b20c5f23",
   "metadata": {},
   "source": [
    "#### In my execution: when match_all = True, the function will return recipes where the available ingredients is exactly equal or a superset of those needed in the recipe; when match_all = False or not given, the function will return recipes where at least one ingredient is available. "
   ]
  },
  {
   "cell_type": "code",
   "execution_count": 11,
   "id": "3a2847e5",
   "metadata": {},
   "outputs": [],
   "source": [
    "class Cookbook():\n",
    "    def __init__(self):\n",
    "        self.recipe_list = []\n",
    "    \n",
    "    def add_recipe(self, Recipe_cls_object):\n",
    "        \"\"\"Adds recipes to the cookbook\"\"\"\n",
    "        self.recipe_list.append(Recipe_cls_object)\n",
    "    \n",
    "    def get_meal_type(self, meal_type):\n",
    "        \"\"\"Returns all recipes of a certain meal type in the cookbook.\"\"\"\n",
    "        selected_type_recipes = [recipe for recipe in self.recipe_list if recipe.meal == meal_type]\n",
    "        for recipe in selected_type_recipes:\n",
    "            print(recipe.name)\n",
    "    \n",
    "    def what_to_make(self, ingredients_at_home = [], match_all = bool()):\n",
    "        \"\"\"Match ingredients available at home to recipe ingredients using set methods\"\"\"\n",
    "        ingredient_sets_dict = {recipe.name: set(recipe.ingredients.keys()) for recipe in self.recipe_list}\n",
    "        if match_all == True:\n",
    "            returned_recipes = [recipe for recipe in ingredient_sets_dict.keys() \\\n",
    "                                if set(ingredients_at_home)==(ingredient_sets_dict[recipe]) \\\n",
    "                                or set(ingredients_at_home).issuperset(ingredient_sets_dict[recipe])]\n",
    "            \n",
    "            return returned_recipes\n",
    "        \n",
    "        elif match_all == False:\n",
    "            returned_recipes = [recipe for recipe in ingredient_sets_dict.keys() \\\n",
    "                                if len(set(ingredients_at_home) & (ingredient_sets_dict[recipe])) > 0]\n",
    "            \n",
    "            return returned_recipes\n",
    "        \n",
    "        else:\n",
    "            raise Exception(\"Please check your input.\")\n",
    "            "
   ]
  },
  {
   "cell_type": "markdown",
   "id": "0837ebe5",
   "metadata": {},
   "source": [
    "### Initialize the cookbook again because we have redefined the Cookbook class:"
   ]
  },
  {
   "cell_type": "code",
   "execution_count": 12,
   "id": "da17f5e8",
   "metadata": {},
   "outputs": [],
   "source": [
    "my_cookbook = Cookbook()\n",
    "my_cookbook.add_recipe(meat_spag)\n",
    "my_cookbook.add_recipe(aglioeolio)\n",
    "my_cookbook.add_recipe(cremebrulee)\n",
    "my_cookbook.add_recipe(courtauchoc)\n",
    "my_cookbook.add_recipe(monstercake)"
   ]
  },
  {
   "cell_type": "markdown",
   "id": "7bb7524f",
   "metadata": {},
   "source": [
    "### Calling the method twice to show how the boolean affects results."
   ]
  },
  {
   "cell_type": "markdown",
   "id": "9939d263",
   "metadata": {},
   "source": [
    "####  The ingredients for Zelda Monster Cake are a superset of that for Courtesan au Chocolat, so match_all = True returns both recipes."
   ]
  },
  {
   "cell_type": "code",
   "execution_count": 13,
   "id": "8c742569",
   "metadata": {},
   "outputs": [
    {
     "data": {
      "text/plain": [
       "['Courtesan au Chocolat', 'Zelda Monster Cake']"
      ]
     },
     "execution_count": 13,
     "metadata": {},
     "output_type": "execute_result"
    }
   ],
   "source": [
    "my_cookbook.what_to_make(ingredients_at_home = [\"Eggs\", \"Butter\", \"Flour\", \"Sugar\", \"Milk\", \"Chocolate\", \"Ube\", \"Durian\"],\\\n",
    "                         match_all = True)"
   ]
  },
  {
   "cell_type": "markdown",
   "id": "5f9316a0",
   "metadata": {},
   "source": [
    "#### Setting match_all = False returns all recipes where at least one ingredient is available at home. Meatghetti and Spagballs is returned even when it doesn't use lemons. "
   ]
  },
  {
   "cell_type": "code",
   "execution_count": 14,
   "id": "d47f9c2e",
   "metadata": {},
   "outputs": [
    {
     "data": {
      "text/plain": [
       "['Meatghetti and Spagballs', 'Pasta Aglio e Olio']"
      ]
     },
     "execution_count": 14,
     "metadata": {},
     "output_type": "execute_result"
    }
   ],
   "source": [
    "my_cookbook.what_to_make(ingredients_at_home = [\"Lemon\", \"Spaghetti\"], match_all = False)"
   ]
  }
 ],
 "metadata": {
  "kernelspec": {
   "display_name": "Python 3",
   "language": "python",
   "name": "python3"
  },
  "language_info": {
   "codemirror_mode": {
    "name": "ipython",
    "version": 3
   },
   "file_extension": ".py",
   "mimetype": "text/x-python",
   "name": "python",
   "nbconvert_exporter": "python",
   "pygments_lexer": "ipython3",
   "version": "3.8.8"
  }
 },
 "nbformat": 4,
 "nbformat_minor": 5
}
