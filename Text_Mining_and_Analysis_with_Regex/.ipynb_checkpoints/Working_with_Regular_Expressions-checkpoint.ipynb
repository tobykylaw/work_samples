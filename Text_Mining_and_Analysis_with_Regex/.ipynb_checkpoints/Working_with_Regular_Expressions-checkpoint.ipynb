{
 "cells": [
  {
   "cell_type": "code",
   "execution_count": 2,
   "id": "0381458d",
   "metadata": {},
   "outputs": [],
   "source": [
    "# ==============================================================+\n",
    "# Working with Regular Expressions                              /\n",
    "# Author    : Toby Law                                          |\n",
    "# Date      : 10/22/2021                                        |\n",
    "# ==============================================================+"
   ]
  },
  {
   "cell_type": "markdown",
   "id": "56c12ff4",
   "metadata": {},
   "source": [
    "## Working with Regular Expressions (RegEx)\n",
    "*****"
   ]
  },
  {
   "cell_type": "markdown",
   "id": "2a59d358",
   "metadata": {},
   "source": [
    "## Import dependencies"
   ]
  },
  {
   "cell_type": "code",
   "execution_count": 3,
   "id": "d2a3b800",
   "metadata": {},
   "outputs": [],
   "source": [
    "import pandas as pd\n",
    "import re\n",
    "import matplotlib.pyplot as plt\n",
    "import string"
   ]
  },
  {
   "cell_type": "markdown",
   "id": "d8d81f95",
   "metadata": {},
   "source": [
    "## Reading in the `emergency.csv` dataframe"
   ]
  },
  {
   "cell_type": "markdown",
   "id": "f172d406",
   "metadata": {},
   "source": [
    "#### Extract the injuries description to form a Series object, so we can make use of the `str` attribute "
   ]
  },
  {
   "cell_type": "code",
   "execution_count": 4,
   "id": "af48df7a",
   "metadata": {},
   "outputs": [
    {
     "data": {
      "text/plain": [
       "0                75YOF WITH LAC TO FINGER FROM METAL CAN \n",
       "1                8YOF FRACTURED FINGER FELL OFF HER BIKE \n",
       "2       9 YOM TACKLED DURING FOOTBALL PRACTICE.  DX: C...\n",
       "3       PT WAS HIT ON RT SIDE WHILE PLAYING FOOTBALL D...\n",
       "4       DX NASAL INJ: 9YOM C/O FELL OFF SWING @ SCHOOL...\n",
       "                              ...                        \n",
       "9994    RT HIP STRAIN.9YOM WAS PLAYING FOOTBALL AND IN...\n",
       "9995    16 MO MALE FELL AND HIT HEAD ON A TRAIN TABLE....\n",
       "9996        RAN INTO TABLE, HIT FACE DX: FACIAL CONTUSION\n",
       "9997         81YOF-HUMERUS FX-FELL DOWN 3-4 STEPS-@ HOME \n",
       "9998    30YOM PUSHING TRASH DOWN INTO A GARBAGE CAN WI...\n",
       "Name: 10 MO F FELL OUT OF SHOPPING CART;DX FRACTURED SKULL , Length: 9999, dtype: object"
      ]
     },
     "execution_count": 4,
     "metadata": {},
     "output_type": "execute_result"
    }
   ],
   "source": [
    "injuries_df = pd.read_csv(\"emergency.csv\", index_col = False, header = 0)\n",
    "\n",
    "injuries_description = injuries_df.iloc[:, 0]\n",
    "injuries_description"
   ]
  },
  {
   "cell_type": "markdown",
   "id": "a36faf34",
   "metadata": {},
   "source": [
    "### a) Find and display the length of the longest and shortest narratives of injuries"
   ]
  },
  {
   "cell_type": "code",
   "execution_count": 5,
   "id": "5ab96081",
   "metadata": {},
   "outputs": [
    {
     "name": "stdout",
     "output_type": "stream",
     "text": [
      "Longest narrative of injuries: '54 YO M, C/O RT NECK PAIN FOR 1 DAY, BEGAN AFTER DOING PULL-UPS, NON-RA DIATING, WORSE W/ MOVEMENT, DX MUSCULOSKELETAL PAIN', length: 143\n",
      "Shortest narrative of injuries: '7 YOF WRECKED BIKE; RIB PAIN DX:  RIB CONTUSION', length: 17\n"
     ]
    }
   ],
   "source": [
    "max_des = injuries_description[injuries_description.str.len().max()]\n",
    "max_len = injuries_description.str.len().max()\n",
    "min_des = injuries_description[injuries_description.str.len().min()]\n",
    "min_len = injuries_description.str.len().min()\n",
    "\n",
    "print(f\"Longest narrative of injuries: '{max_des}', length: {max_len}\")\n",
    "print(f\"Shortest narrative of injuries: '{min_des}', length: {min_len}\")"
   ]
  },
  {
   "cell_type": "markdown",
   "id": "5a7b1e6b",
   "metadata": {},
   "source": [
    "### b) Find narratives related to fractures"
   ]
  },
  {
   "cell_type": "markdown",
   "id": "e9329bab",
   "metadata": {},
   "source": [
    "#### Compiled regex expression for searching all narratives related to fractures. Note that the narratives are in ALL CAPS."
   ]
  },
  {
   "cell_type": "code",
   "execution_count": 6,
   "id": "97c3b84b",
   "metadata": {},
   "outputs": [
    {
     "name": "stdout",
     "output_type": "stream",
     "text": [
      "There are 1484 narratives related to fractures.\n"
     ]
    }
   ],
   "source": [
    "fracture_regex = re.compile(r'(FX[S]*|[F]RACTUR(E|ES|ED))')\n",
    "fractures = [narrative for narrative in injuries_description \\\n",
    "             if re.findall(fracture_regex, narrative)]\n",
    "print(f\"There are {len(fractures)} narratives related to fractures.\")"
   ]
  },
  {
   "cell_type": "markdown",
   "id": "c21502d0",
   "metadata": {},
   "source": [
    "#### Displaying the narratives found in a data frame."
   ]
  },
  {
   "cell_type": "code",
   "execution_count": 7,
   "id": "0c56378e",
   "metadata": {},
   "outputs": [
    {
     "data": {
      "text/html": [
       "<div>\n",
       "<style scoped>\n",
       "    .dataframe tbody tr th:only-of-type {\n",
       "        vertical-align: middle;\n",
       "    }\n",
       "\n",
       "    .dataframe tbody tr th {\n",
       "        vertical-align: top;\n",
       "    }\n",
       "\n",
       "    .dataframe thead th {\n",
       "        text-align: right;\n",
       "    }\n",
       "</style>\n",
       "<table border=\"1\" class=\"dataframe\">\n",
       "  <thead>\n",
       "    <tr style=\"text-align: right;\">\n",
       "      <th></th>\n",
       "      <th>Fracture-related narratives</th>\n",
       "    </tr>\n",
       "  </thead>\n",
       "  <tbody>\n",
       "    <tr>\n",
       "      <th>0</th>\n",
       "      <td>8YOF FRACTURED FINGER FELL OFF HER BIKE</td>\n",
       "    </tr>\n",
       "    <tr>\n",
       "      <th>1</th>\n",
       "      <td>12YOF FELL DOWN STAIRS DX: FX RADIUS</td>\n",
       "    </tr>\n",
       "    <tr>\n",
       "      <th>2</th>\n",
       "      <td>77 Y MALE HAD MECHANICAL FALL DOWN STEPS CAUSI...</td>\n",
       "    </tr>\n",
       "    <tr>\n",
       "      <th>3</th>\n",
       "      <td>34YOM-FELL DOWN INDOOR STEPS @ HOME CARRYING A...</td>\n",
       "    </tr>\n",
       "    <tr>\n",
       "      <th>4</th>\n",
       "      <td>FINGER FX. 20 YOM INJURED FINGER WHEN PLAYING ...</td>\n",
       "    </tr>\n",
       "  </tbody>\n",
       "</table>\n",
       "</div>"
      ],
      "text/plain": [
       "                         Fracture-related narratives\n",
       "0           8YOF FRACTURED FINGER FELL OFF HER BIKE \n",
       "1               12YOF FELL DOWN STAIRS DX: FX RADIUS\n",
       "2  77 Y MALE HAD MECHANICAL FALL DOWN STEPS CAUSI...\n",
       "3  34YOM-FELL DOWN INDOOR STEPS @ HOME CARRYING A...\n",
       "4  FINGER FX. 20 YOM INJURED FINGER WHEN PLAYING ..."
      ]
     },
     "execution_count": 7,
     "metadata": {},
     "output_type": "execute_result"
    }
   ],
   "source": [
    "fractures_df = pd.DataFrame(fractures, columns = ['Fracture-related narratives'])\n",
    "fractures_df.head()"
   ]
  },
  {
   "cell_type": "markdown",
   "id": "394dc20a",
   "metadata": {},
   "source": [
    "### c) Find the body parts involved in the fractures"
   ]
  },
  {
   "cell_type": "markdown",
   "id": "c40d3d2e",
   "metadata": {},
   "source": [
    "#### Grouping `fractures` into 7 broad groups, and building regex expressions for each, containing the following respectively:\n",
    "\n",
    "1. ARM: ELBOW, ULNA, RADIUS, HAND, FINGER (INDEX, THUMB, PINKY, DIGIT), WRIST, HUMERUS (HUMERAL), METACARPAL\n",
    "\n",
    "2. LEG: FOOT (TOE(S), ANKLE, METATARSAL), KNEE, FEMUR(FEMORAL), FIBULA, TIBIA, CALCANEUS(CALCANEAL)\n",
    "\n",
    "3. SPINE: NECK, CERVICAL (C1-7), LUMBAR (L1-5), THORACIC (T1-12)\n",
    "\n",
    "4. HIP: PELVIS (PELVIC)\n",
    "\n",
    "5. SKULL: NASAL(NOSE), ORBITAL (ORBIT), FACIAL (FACE), TEETH (TOOTH)\n",
    "\n",
    "6. SHOULDER: CLAVICLE(CLAV)\n",
    "\n",
    "7. RIB(S)\n"
   ]
  },
  {
   "cell_type": "code",
   "execution_count": 8,
   "id": "34c2789e",
   "metadata": {},
   "outputs": [],
   "source": [
    "body_parts = [\"ARM\", \"LEG\", \"SPINE\", \"HIP\", \"RIB\", \"SKULL\", \"SHOULDER\"]\n",
    "\n",
    "arm_regex = re.compile(r\"(ARM|ELBOW|ULNA|RADIUS|HAND|FINGER|INDEX|THUMB|PINKY|WRIST|HUMER(US|AL)|METACARPAL|DIGIT)\")\n",
    "leg_regex = re.compile(r\"(LEG|FOOT|TOE[S]*|ANKLE|METATARSAL|KNEE|FEM(UR|ORAL)|FIBULA|TIBIA|CALCANE(US|AL))\")\n",
    "spine_regex = re.compile(r\"(SPINE|NECK|CERVICAL|C[1-7]|LUMBAR|L[1-5]|THORACIC|T([1-9]|1[0-2]))\")\n",
    "hip_regex = re.compile(r\"(PELV(IS|IC)|HIP)\")\n",
    "skull_regex = re.compile(r\"(NOSE|NASAL|ORBIT[AL]?|FAC(IAL|E)|TEETH|TOOTH)\")\n",
    "shoulder_regex = re.compile(r\"(SHOULDER|CLAV[ICLE]?)\")\n",
    "rib_regex = re.compile(r\"(RIB[S]?)\")"
   ]
  },
  {
   "cell_type": "markdown",
   "id": "1182206d",
   "metadata": {},
   "source": [
    "#### Finding the corresponding narratives for each group of fractures"
   ]
  },
  {
   "cell_type": "code",
   "execution_count": 9,
   "id": "da96bc15",
   "metadata": {},
   "outputs": [],
   "source": [
    "arm = [narrative for narrative in fractures if re.findall(arm_regex, narrative)]\n",
    "\n",
    "leg = [narrative for narrative in fractures if re.findall(leg_regex, narrative)]\n",
    "\n",
    "spine = [narrative for narrative in fractures if re.findall(spine_regex, narrative)]\n",
    "\n",
    "hip = [narrative for narrative in fractures if re.findall(hip_regex, narrative)]\n",
    "\n",
    "skull = [narrative for narrative in fractures if re.findall(skull_regex, narrative)]\n",
    "\n",
    "shoulder = [narrative for narrative in fractures if re.findall(shoulder_regex, narrative)]\n",
    "\n",
    "rib = [narrative for narrative in fractures if re.findall(rib_regex, narrative)]"
   ]
  },
  {
   "cell_type": "markdown",
   "id": "fc188dc7",
   "metadata": {},
   "source": [
    "#### Plot histogram of fractured body parts\n",
    "\n",
    "The histogram shows that most fractures occur in the limbs, more oftenly in the upper than lower limbs. Spinal fractures are the least common, whereas hip, skull, shoulder and rib fractures are similar in frequency."
   ]
  },
  {
   "cell_type": "code",
   "execution_count": 10,
   "id": "7563856e",
   "metadata": {},
   "outputs": [
    {
     "data": {
      "image/png": "[encoded data removed]",
      "text/plain": [
       "<Figure size 432x288 with 1 Axes>"
      ]
     },
     "metadata": {
      "needs_background": "light"
     },
     "output_type": "display_data"
    }
   ],
   "source": [
    "fracture_groups = [arm, leg, spine, hip, skull, shoulder, rib]\n",
    "fracture_count = [len(group) for group in fracture_groups]\n",
    "\n",
    "body_part_hist = plt.figure()\n",
    "ax = body_part_hist.add_axes([0,0,1,1])\n",
    "groups = [\"arm\", \"leg\", \"spine\", \"hip\", \"skull\", \"shoulder\", \"rib\"]\n",
    "ax.bar(groups, fracture_count)\n",
    "ax.set_ylabel(\"Frequency\")\n",
    "ax.set_xlabel(\"Fractured body part\")\n",
    "ax.set_title(\"Frequency of fractures grouped by body part\")\n",
    "plt.show()"
   ]
  },
  {
   "cell_type": "markdown",
   "id": "4a2186e2",
   "metadata": {},
   "source": [
    "### d) Extract age and gender of the afflicted persons"
   ]
  },
  {
   "cell_type": "markdown",
   "id": "17664773",
   "metadata": {},
   "source": [
    "#### Select all narratives from `fracture` that contains an age description"
   ]
  },
  {
   "cell_type": "code",
   "execution_count": 12,
   "id": "a769fbfd",
   "metadata": {},
   "outputs": [
    {
     "data": {
      "text/plain": [
       "['8YOF FRACTURED FINGER FELL OFF HER BIKE ',\n",
       " '12YOF FELL DOWN STAIRS DX: FX RADIUS',\n",
       " '77 Y MALE HAD MECHANICAL FALL DOWN STEPS CAUSING ANKLE INJ DX; ANKLE FX',\n",
       " '34YOM-FELL DOWN INDOOR STEPS @ HOME CARRYING A DOG,TRIPPED ON SOMETHING -FELL FORWARD     DX FX DISTAL TIBIA & FIBULA',\n",
       " 'FINGER FX. 20 YOM INJURED FINGER WHEN PLAYING BASKETBALL ',\n",
       " '46YOM W/CERVICAL SPINE & LUMBAR TP FXS 2/2 JUMPING 8-10 FT FROM WINDOW WHEN POLICE ENTERED HIS APT. SLID DOWN HILL. NO LOC. +COCAINE.+ BENZOS',\n",
       " 'RT FIBULA FX.55YOM FELL DOWN A LADDER. ',\n",
       " '10 YO FEMALE CAUGHT FINGER IN A DOOR AT SCHOOL.  DX FX ',\n",
       " '15 YOM FELL OFF OF BIKE. DX:  L FOREARM FX.',\n",
       " 'L1 COMPRESSION FX.87YOF FELL ON THE FLOOR. ']"
      ]
     },
     "execution_count": 12,
     "metadata": {},
     "output_type": "execute_result"
    }
   ],
   "source": [
    "age_regex = re.compile(r\"(\\d|\\d{2})\\s*(Y|M|W)\")\n",
    "age = [narrative for narrative in fractures if re.findall(age_regex, narrative)]\n",
    "age[:10]"
   ]
  },
  {
   "cell_type": "code",
   "execution_count": 11,
   "id": "68f9a677",
   "metadata": {},
   "outputs": [
    {
     "data": {
      "text/plain": [
       "1270"
      ]
     },
     "execution_count": 11,
     "metadata": {},
     "output_type": "execute_result"
    }
   ],
   "source": [
    "len(age)"
   ]
  },
  {
   "cell_type": "markdown",
   "id": "9f1f9f5e",
   "metadata": {},
   "source": [
    "#### Visually confirm that narratives without age description are not included in `age` "
   ]
  },
  {
   "cell_type": "code",
   "execution_count": 15,
   "id": "03b84fe7",
   "metadata": {},
   "outputs": [
    {
     "data": {
      "text/plain": [
       "['PLAYING BASKETBALL&ACC GOT ELBOWED ONTO THE NOSE BY ANOTHER PLAYER >>FX',\n",
       " 'HURT IN GYMNASTICS . FRACTURE L HAND ',\n",
       " 'PT STATES HE FELL OFF HORSE ONTO RIGHT SHOULDER & THEN HORSE KICKED PT IN RIGHT ARM C/O NUMBNESS.DX: RIGHT SHOULDER DISLOCATION,GLENOID FX',\n",
       " 'PT WAS AT SCHOOL FOOTBALL PRACTICE, LANDED WRONG CAUSING A FX TO LT THUMB.',\n",
       " 'RT 5TH FINGER FX.PT FELL DOWN  STEPS. ',\n",
       " 'RIB FX-FELL ONTO SOMEONE ELSE WHILE PLAYING *** ***-@ A PARK ',\n",
       " 'FELL OUT OF BED TRYING TO REACH THE CANE VS FELL WHILE TRANSFERRING FRO M CANE TO WALKER>>TIBIA FX',\n",
       " 'PT FELL OFF BIKE, GOING DOWNHILL, INJURING (L) SHOULDER    DX;# FX (L) HUMERUS',\n",
       " 'PT WAS AT HOME, FELL OFF A LADDER, CAUSING AN OPEN FX TO RT ANKLE, VAGAL REACTION, HYPOGLYCEMIA.',\n",
       " 'PT INJURED LEG AFTER LANDING FROM DOING A SOMMER SAULT, DX: FX  TIBIAL']"
      ]
     },
     "execution_count": 15,
     "metadata": {},
     "output_type": "execute_result"
    }
   ],
   "source": [
    "list(set(age).symmetric_difference(set(fractures)))[:10]"
   ]
  },
  {
   "cell_type": "markdown",
   "id": "7ff6f4ea",
   "metadata": {},
   "source": [
    "#### Construct regex expression for filtering out `male` and `female` narratives from `age`"
   ]
  },
  {
   "cell_type": "code",
   "execution_count": 16,
   "id": "16b1d3ad",
   "metadata": {},
   "outputs": [],
   "source": [
    "male_regex = re.compile(r\"(\\d|\\d{2})\\s*(Y|YEAR[S]*|YR|M|MO[NTH]*|W[E]*K)\\s*\\/?(O|OLD)?\\s*\\/?,?(B[LACK]*|W[HITE]*|H[ISP]*|A[SIAN]*)*\\/?\\s*(M|[^FE]MALE)\")\n",
    "female_regex = re.compile(r\"(\\d|\\d{2})\\s*(Y|YEAR[S]*|YR|M|MO[NTH]*|W[E]*K)\\s*\\/?(O|OLD)?\\s*\\/?,?(B[LACK]*|W[HITE]*|H[ISP]*|A[SIAN]*)*\\/?\\s*(F|[FE]MALE)\")\n",
    "male = [narrative for narrative in age if re.findall(male_regex, narrative)]\n",
    "female = [narrative for narrative in age if re.findall(female_regex, narrative)]"
   ]
  },
  {
   "cell_type": "markdown",
   "id": "1371ef33",
   "metadata": {},
   "source": [
    "#### Amongst the 1270 narratives with age information, 699 are male and 561 are female patients."
   ]
  },
  {
   "cell_type": "code",
   "execution_count": 17,
   "id": "283dae42",
   "metadata": {},
   "outputs": [
    {
     "name": "stdout",
     "output_type": "stream",
     "text": [
      "699 561\n"
     ]
    }
   ],
   "source": [
    "print(len(male), len(female))"
   ]
  },
  {
   "cell_type": "markdown",
   "id": "aa8974bb",
   "metadata": {},
   "source": [
    "### Checking the segregation of the narratives in `age` into `male` and `female`"
   ]
  },
  {
   "cell_type": "markdown",
   "id": "5fe7499f",
   "metadata": {},
   "source": [
    "#### Check that narratives in `age` that do not contain gender descriptions are neither in `male` nor `female`"
   ]
  },
  {
   "cell_type": "code",
   "execution_count": 18,
   "id": "ce88ed8c",
   "metadata": {},
   "outputs": [
    {
     "data": {
      "text/plain": [
       "{'26 YO WAS PLAYING FOOTBALL AND WAS HIT IN THE NOSE DX NASAL FX',\n",
       " '35 YO HIT HAND AGAINST WALL FX HAND',\n",
       " '52 YR OLD TRIPPED GOING UP STAIRS AND INJURED FINGER DX/ RIGHT 4TH FINGER FX',\n",
       " '70 YO LOST BALANCE FELL ON FLOOR FX HIP',\n",
       " '75 Y/O CAUGHT LEFT INDEX FINGER BETWEEN JACK AND A TIRE. DX-FX PHALANX RIGHT DISTAL FINGER.',\n",
       " '8 Y/O C/O FOREARM PAIN, RIDING BICYCLE, FELL OFF LANDED ON OUTSTRETCHED ARM. DX-FX RIGHT DISTAL RADIUS.',\n",
       " 'C/O RT RING FINGER PAIN, SWELLING&BLEEDING S/P CRSUHED IT B/T 2 METAL V S WOODEN POLES>>FX/LAC',\n",
       " 'DX CLOSED FX OF UPPER END, SURG NECK (HUMERUS)/DIS FINGER - CLOSED 3RD FINGER/DIS FINGER - CLOSED 4TH FINGE;. 54YHOF MECH FALL DOWN ~ 8 STAIRS',\n",
       " 'PT FELL OFF BIKE THIS AM GOING 20 MPH C/O R SHOULDER PAIN, RIB PAIN, ST IFF NECK.  R DISTAL CLAVICAL FX, CONTUSION TO RIBS, ABRASION.',\n",
       " 'PT REACHED FOR BOOK BAG, HEARD A POP AND FELT PAIN TO ARM, DX: FX HUMERUS PT IS 13 YEARS OLD'}"
      ]
     },
     "execution_count": 18,
     "metadata": {},
     "output_type": "execute_result"
    }
   ],
   "source": [
    "set(male + female).symmetric_difference(set(age))"
   ]
  },
  {
   "cell_type": "markdown",
   "id": "38edbd18",
   "metadata": {},
   "source": [
    "#### Visually confirm that narratives contained in `age` but not in `male` all involve female patients "
   ]
  },
  {
   "cell_type": "code",
   "execution_count": 19,
   "id": "bd6c8ef3",
   "metadata": {},
   "outputs": [
    {
     "data": {
      "text/plain": [
       "['93 YO F PT TRIPPED AND FELL ONTO HER GRANITE FIREPLACE LANDING ON HER R T SIDE. HIP NAD RT KNEE PAIN. DX RT HIP FRACTURE ADMITTED',\n",
       " '21YOF SUSTAINED FOOT FRACTURE WHEN ACCIDENTALLY FELL DOWN THE STAIRS@',\n",
       " \"24YF LAST PM WHILE ETOH INTOX'D FELL DOWN 4-5 STAIRS HITTING CW >>RIB FX\",\n",
       " '92YOF DAUGHTER HEARD MOTHER FALL ONTO THE FLOOR IN BEDROOM INJURED LT FEMUR ABOVE KNEE;UPPER LEG FRACTURE',\n",
       " '43 YOF TRIPPED AND FELL ONTO TILE FLOOR  WHILE SHOPPING AT ***. DX:  L PATELLA FX.',\n",
       " '90YF ON HOSPICE CARE, FELL OUT OF BED, C/O HIP PAIN >>FX',\n",
       " '12YOF-WRIST FX-FELL BACKWARDS WHILE ROLLER SKATING W/A FRIEND ',\n",
       " '76YOF TRIPPED AND FELL OVER STEP DX: HIP FX',\n",
       " '41YOF FRACTURED FIBULA ROLLED ANKLE WHEN PLAYING VOLLEYBALL ',\n",
       " '=87 YOF LT WRIST & RT LEG PAIN S/P FALLING DOWN STAIRS. DX LT DISTAL RADIUS FX, FALL']"
      ]
     },
     "execution_count": 19,
     "metadata": {},
     "output_type": "execute_result"
    }
   ],
   "source": [
    "list(set(male).symmetric_difference(set(age)))[:10]"
   ]
  },
  {
   "cell_type": "markdown",
   "id": "420c987a",
   "metadata": {},
   "source": [
    "#### Visually confirm that narratives contained in `age` but not in `female` all involve male patients "
   ]
  },
  {
   "cell_type": "code",
   "execution_count": 20,
   "id": "7c2c24ae",
   "metadata": {},
   "outputs": [
    {
     "data": {
      "text/plain": [
       "['FELL OFF OF A LADDER HURT WRIST   FRACTURE DISTAL RADIUS  17YOM ',\n",
       " '72YOM AT HOME IN THE GARAGE STANDING ON A WOODEN SHELVE & IT BROKE CAUS ED PT TO FALL DX LIP LACERATION, RIB FRACTURE, SKIN TEAR, MECHANICAL FA',\n",
       " '75YOM FELL IN THE SHOWER DX RIB FX',\n",
       " '27 YOM WAS HIT IN HAND PLAYING BASKETBALL. DX:  R 2ND METACARPAL FX.',\n",
       " '18YOM PUNCHED A WALL + INJURED (R) HAND    DX;* (R) HAND FX ',\n",
       " '47 YOM SUSTAINED A LOWER LEG FRACTURE WHILE MOVING A DOGHOUSE ',\n",
       " '92YOM DIFF SLEEPING;PCP RX FOR ***;TOOK MED 1ST TIME; AWOKE, LOST BALAN CE & FELL ONTO FLOOR,STRUCK NOSE-DEFORMED   DX: NASAL BONE FX',\n",
       " '15 YO M PLAYING IN FOOTBALL TOURNAMENT WHEN HE FELL TO GROUND ONTO SHOU LDER. DX: CLAVICLE FX.',\n",
       " '16 YR M PLAYING BASKETBALL;DX FRACTURED ANKLE ',\n",
       " '6YOM FELL OFF MONKEY BARS TONIGHT AT PARK INJURING LT ELBOW DX - LT SUPRACONDYLAR FX']"
      ]
     },
     "execution_count": 20,
     "metadata": {},
     "output_type": "execute_result"
    }
   ],
   "source": [
    "list(set(female).symmetric_difference(set(age)))[:10]"
   ]
  },
  {
   "cell_type": "markdown",
   "id": "ee8b9580",
   "metadata": {},
   "source": [
    "#### Check that the narratives for male and female patients do not intersect"
   ]
  },
  {
   "cell_type": "code",
   "execution_count": 21,
   "id": "1f85faa4",
   "metadata": {},
   "outputs": [
    {
     "data": {
      "text/plain": [
       "set()"
      ]
     },
     "execution_count": 21,
     "metadata": {},
     "output_type": "execute_result"
    }
   ],
   "source": [
    "set(male).intersection(set(female))"
   ]
  },
  {
   "cell_type": "markdown",
   "id": "24fd5400",
   "metadata": {},
   "source": [
    "#### Present the narratives for each gender in separate data frames"
   ]
  },
  {
   "cell_type": "code",
   "execution_count": 22,
   "id": "3e0c77c4",
   "metadata": {},
   "outputs": [
    {
     "data": {
      "text/html": [
       "<div>\n",
       "<style scoped>\n",
       "    .dataframe tbody tr th:only-of-type {\n",
       "        vertical-align: middle;\n",
       "    }\n",
       "\n",
       "    .dataframe tbody tr th {\n",
       "        vertical-align: top;\n",
       "    }\n",
       "\n",
       "    .dataframe thead th {\n",
       "        text-align: right;\n",
       "    }\n",
       "</style>\n",
       "<table border=\"1\" class=\"dataframe\">\n",
       "  <thead>\n",
       "    <tr style=\"text-align: right;\">\n",
       "      <th></th>\n",
       "      <th>Narrative</th>\n",
       "      <th>Gender</th>\n",
       "    </tr>\n",
       "  </thead>\n",
       "  <tbody>\n",
       "    <tr>\n",
       "      <th>0</th>\n",
       "      <td>77 Y MALE HAD MECHANICAL FALL DOWN STEPS CAUSI...</td>\n",
       "      <td>M</td>\n",
       "    </tr>\n",
       "    <tr>\n",
       "      <th>1</th>\n",
       "      <td>34YOM-FELL DOWN INDOOR STEPS @ HOME CARRYING A...</td>\n",
       "      <td>M</td>\n",
       "    </tr>\n",
       "    <tr>\n",
       "      <th>2</th>\n",
       "      <td>FINGER FX. 20 YOM INJURED FINGER WHEN PLAYING ...</td>\n",
       "      <td>M</td>\n",
       "    </tr>\n",
       "    <tr>\n",
       "      <th>3</th>\n",
       "      <td>46YOM W/CERVICAL SPINE &amp; LUMBAR TP FXS 2/2 JUM...</td>\n",
       "      <td>M</td>\n",
       "    </tr>\n",
       "    <tr>\n",
       "      <th>4</th>\n",
       "      <td>RT FIBULA FX.55YOM FELL DOWN A LADDER.</td>\n",
       "      <td>M</td>\n",
       "    </tr>\n",
       "  </tbody>\n",
       "</table>\n",
       "</div>"
      ],
      "text/plain": [
       "                                           Narrative Gender\n",
       "0  77 Y MALE HAD MECHANICAL FALL DOWN STEPS CAUSI...      M\n",
       "1  34YOM-FELL DOWN INDOOR STEPS @ HOME CARRYING A...      M\n",
       "2  FINGER FX. 20 YOM INJURED FINGER WHEN PLAYING ...      M\n",
       "3  46YOM W/CERVICAL SPINE & LUMBAR TP FXS 2/2 JUM...      M\n",
       "4            RT FIBULA FX.55YOM FELL DOWN A LADDER.       M"
      ]
     },
     "execution_count": 22,
     "metadata": {},
     "output_type": "execute_result"
    }
   ],
   "source": [
    "male_df = pd.DataFrame(male, columns = [\"Narrative\"])\n",
    "male_df['Gender'] = \"M\"\n",
    "male_df.head()"
   ]
  },
  {
   "cell_type": "code",
   "execution_count": 23,
   "id": "e9fcb57e",
   "metadata": {},
   "outputs": [
    {
     "data": {
      "text/html": [
       "<div>\n",
       "<style scoped>\n",
       "    .dataframe tbody tr th:only-of-type {\n",
       "        vertical-align: middle;\n",
       "    }\n",
       "\n",
       "    .dataframe tbody tr th {\n",
       "        vertical-align: top;\n",
       "    }\n",
       "\n",
       "    .dataframe thead th {\n",
       "        text-align: right;\n",
       "    }\n",
       "</style>\n",
       "<table border=\"1\" class=\"dataframe\">\n",
       "  <thead>\n",
       "    <tr style=\"text-align: right;\">\n",
       "      <th></th>\n",
       "      <th>Narrative</th>\n",
       "      <th>Gender</th>\n",
       "    </tr>\n",
       "  </thead>\n",
       "  <tbody>\n",
       "    <tr>\n",
       "      <th>0</th>\n",
       "      <td>8YOF FRACTURED FINGER FELL OFF HER BIKE</td>\n",
       "      <td>F</td>\n",
       "    </tr>\n",
       "    <tr>\n",
       "      <th>1</th>\n",
       "      <td>12YOF FELL DOWN STAIRS DX: FX RADIUS</td>\n",
       "      <td>F</td>\n",
       "    </tr>\n",
       "    <tr>\n",
       "      <th>2</th>\n",
       "      <td>10 YO FEMALE CAUGHT FINGER IN A DOOR AT SCHOOL...</td>\n",
       "      <td>F</td>\n",
       "    </tr>\n",
       "    <tr>\n",
       "      <th>3</th>\n",
       "      <td>L1 COMPRESSION FX.87YOF FELL ON THE FLOOR.</td>\n",
       "      <td>F</td>\n",
       "    </tr>\n",
       "    <tr>\n",
       "      <th>4</th>\n",
       "      <td>79 YOF FELL OUT OF BED WHILE SLEEPING. DX:  L ...</td>\n",
       "      <td>F</td>\n",
       "    </tr>\n",
       "  </tbody>\n",
       "</table>\n",
       "</div>"
      ],
      "text/plain": [
       "                                           Narrative Gender\n",
       "0           8YOF FRACTURED FINGER FELL OFF HER BIKE       F\n",
       "1               12YOF FELL DOWN STAIRS DX: FX RADIUS      F\n",
       "2  10 YO FEMALE CAUGHT FINGER IN A DOOR AT SCHOOL...      F\n",
       "3        L1 COMPRESSION FX.87YOF FELL ON THE FLOOR.       F\n",
       "4  79 YOF FELL OUT OF BED WHILE SLEEPING. DX:  L ...      F"
      ]
     },
     "execution_count": 23,
     "metadata": {},
     "output_type": "execute_result"
    }
   ],
   "source": [
    "female_df = pd.DataFrame(female, columns = [\"Narrative\"])\n",
    "female_df['Gender'] = \"F\"\n",
    "female_df.head()"
   ]
  },
  {
   "cell_type": "markdown",
   "id": "e457817e",
   "metadata": {},
   "source": [
    "### Extract the ages and age units (years, months or weeks) from the narratives and unify them into years"
   ]
  },
  {
   "cell_type": "code",
   "execution_count": 24,
   "id": "731774d8",
   "metadata": {},
   "outputs": [],
   "source": [
    "age_unit_regex = re.compile(r'([0-9]+)(Y|M)')\n",
    "\n",
    "male_age_unit = [age_regex.search(i) for i in male]\n",
    "female_age_unit = [age_regex.search(j) for j in female]\n",
    "\n",
    "male_age = [int(i.group(1)) for i in male_age_unit]\n",
    "female_age = [int(i.group(1)) for i in female_age_unit]\n",
    "\n",
    "male_unit = [i.group(2) for i in male_age_unit]\n",
    "female_unit= [i.group(2) for i in female_age_unit]"
   ]
  },
  {
   "cell_type": "code",
   "execution_count": 25,
   "id": "cb5d877f",
   "metadata": {},
   "outputs": [],
   "source": [
    "for i in range(len(male_age)):\n",
    "    if male_unit[i] == \"M\":\n",
    "        male_age[i] = round(male_age[i]/12)\n",
    "    elif male_unit[i] == \"W\":\n",
    "        male_age[i] = round(male_age[i]/52)\n",
    "    else:\n",
    "        male_age[i] = male_age[i]\n",
    "        \n",
    "for i in range(len(female_age)):\n",
    "    if female_unit[i] == \"M\":\n",
    "        female_age[i] = round(female_age[i]/12)\n",
    "    elif male_unit[i] == \"W\":\n",
    "        female_age[i] = round(female_age[i]/52)\n",
    "    else:\n",
    "        female_age[i] = female_age[i]"
   ]
  },
  {
   "cell_type": "markdown",
   "id": "231810d7",
   "metadata": {},
   "source": [
    "#### Count the number of narratives for each age separately for males and females"
   ]
  },
  {
   "cell_type": "code",
   "execution_count": 26,
   "id": "a2b28bb9",
   "metadata": {},
   "outputs": [
    {
     "data": {
      "text/html": [
       "<div>\n",
       "<style scoped>\n",
       "    .dataframe tbody tr th:only-of-type {\n",
       "        vertical-align: middle;\n",
       "    }\n",
       "\n",
       "    .dataframe tbody tr th {\n",
       "        vertical-align: top;\n",
       "    }\n",
       "\n",
       "    .dataframe thead th {\n",
       "        text-align: right;\n",
       "    }\n",
       "</style>\n",
       "<table border=\"1\" class=\"dataframe\">\n",
       "  <thead>\n",
       "    <tr style=\"text-align: right;\">\n",
       "      <th></th>\n",
       "      <th>Male</th>\n",
       "    </tr>\n",
       "    <tr>\n",
       "      <th>Age_in_Years</th>\n",
       "      <th></th>\n",
       "    </tr>\n",
       "  </thead>\n",
       "  <tbody>\n",
       "    <tr>\n",
       "      <th>0</th>\n",
       "      <td>4</td>\n",
       "    </tr>\n",
       "    <tr>\n",
       "      <th>1</th>\n",
       "      <td>12</td>\n",
       "    </tr>\n",
       "    <tr>\n",
       "      <th>2</th>\n",
       "      <td>18</td>\n",
       "    </tr>\n",
       "    <tr>\n",
       "      <th>3</th>\n",
       "      <td>9</td>\n",
       "    </tr>\n",
       "    <tr>\n",
       "      <th>4</th>\n",
       "      <td>15</td>\n",
       "    </tr>\n",
       "  </tbody>\n",
       "</table>\n",
       "</div>"
      ],
      "text/plain": [
       "              Male\n",
       "Age_in_Years      \n",
       "0                4\n",
       "1               12\n",
       "2               18\n",
       "3                9\n",
       "4               15"
      ]
     },
     "execution_count": 26,
     "metadata": {},
     "output_type": "execute_result"
    }
   ],
   "source": [
    "male_df[\"Age_in_Years\"] = male_age\n",
    "male_df[\"Unit\"] = male_unit\n",
    "male_adjusted_age_freq = male_df.groupby([\"Age_in_Years\"]).count().iloc[:, 0:1]\n",
    "male_adjusted_age_freq.columns = [\"Male\"]\n",
    "male_adjusted_age_freq.head()"
   ]
  },
  {
   "cell_type": "code",
   "execution_count": 27,
   "id": "f00c9373",
   "metadata": {},
   "outputs": [
    {
     "data": {
      "text/html": [
       "<div>\n",
       "<style scoped>\n",
       "    .dataframe tbody tr th:only-of-type {\n",
       "        vertical-align: middle;\n",
       "    }\n",
       "\n",
       "    .dataframe tbody tr th {\n",
       "        vertical-align: top;\n",
       "    }\n",
       "\n",
       "    .dataframe thead th {\n",
       "        text-align: right;\n",
       "    }\n",
       "</style>\n",
       "<table border=\"1\" class=\"dataframe\">\n",
       "  <thead>\n",
       "    <tr style=\"text-align: right;\">\n",
       "      <th></th>\n",
       "      <th>Female</th>\n",
       "    </tr>\n",
       "    <tr>\n",
       "      <th>Age_in_Years</th>\n",
       "      <th></th>\n",
       "    </tr>\n",
       "  </thead>\n",
       "  <tbody>\n",
       "    <tr>\n",
       "      <th>0</th>\n",
       "      <td>6</td>\n",
       "    </tr>\n",
       "    <tr>\n",
       "      <th>1</th>\n",
       "      <td>5</td>\n",
       "    </tr>\n",
       "    <tr>\n",
       "      <th>2</th>\n",
       "      <td>17</td>\n",
       "    </tr>\n",
       "    <tr>\n",
       "      <th>3</th>\n",
       "      <td>10</td>\n",
       "    </tr>\n",
       "    <tr>\n",
       "      <th>4</th>\n",
       "      <td>11</td>\n",
       "    </tr>\n",
       "  </tbody>\n",
       "</table>\n",
       "</div>"
      ],
      "text/plain": [
       "              Female\n",
       "Age_in_Years        \n",
       "0                  6\n",
       "1                  5\n",
       "2                 17\n",
       "3                 10\n",
       "4                 11"
      ]
     },
     "execution_count": 27,
     "metadata": {},
     "output_type": "execute_result"
    }
   ],
   "source": [
    "female_df[\"Age_in_Years\"] = female_age\n",
    "female_df[\"Unit\"] = female_unit\n",
    "female_adjusted_age_freq = female_df.groupby([\"Age_in_Years\"]).count().iloc[:, 0:1]\n",
    "female_adjusted_age_freq.columns = [\"Female\"]\n",
    "female_adjusted_age_freq.head()"
   ]
  },
  {
   "cell_type": "markdown",
   "id": "aaf42df8",
   "metadata": {},
   "source": [
    "#### A line plot of number of instances vs. age, disaggregated by gender. \n",
    "\n",
    "The results show that most fractures occur in the younger demographic, and males are more prone to fractures before the age of 30. Frequency of fractures between male and female are roughly similar for the age range between 40-65. After 65, females have slightly higher numbers of fractures than men."
   ]
  },
  {
   "cell_type": "code",
   "execution_count": 28,
   "id": "0bd66561",
   "metadata": {},
   "outputs": [
    {
     "data": {
      "text/plain": [
       "<AxesSubplot:title={'center':'Number of fractures vs. Age'}, xlabel='Age_in_Years'>"
      ]
     },
     "execution_count": 28,
     "metadata": {},
     "output_type": "execute_result"
    },
    {
     "data": {
      "image/png": "[encoded data removed]",
      "text/plain": [
       "<Figure size 432x288 with 1 Axes>"
      ]
     },
     "metadata": {
      "needs_background": "light"
     },
     "output_type": "display_data"
    }
   ],
   "source": [
    "fractures_freq = pd.concat([male_adjusted_age_freq, female_adjusted_age_freq], axis = 1)\n",
    "fractures_freq.plot(title = \"Number of fractures vs. Age\")"
   ]
  },
  {
   "cell_type": "markdown",
   "id": "50037e92",
   "metadata": {},
   "source": [
    "### BONUS: ReGex crossword"
   ]
  },
  {
   "cell_type": "markdown",
   "id": "f2d90d89",
   "metadata": {},
   "source": [
    "<tr>\n",
    "<td> <img src=\"regex_password_empty.png\" width=\"300\" height=\"300\"> </td> \n",
    "<td> <img src=\"regex_crossword_numbered.png\" width=\"300\" height=\"300\"> </td>\n",
    "</tr>"
   ]
  },
  {
   "cell_type": "markdown",
   "id": "c12e4069",
   "metadata": {},
   "source": [
    "Answers:\n",
    "1. D. The only overlap between the two regexes is D.\n",
    "2. O. The only overlap between the two regexes is O.\n",
    "3. N. \\[CV\\] is first crossed off because it doesn't match the other anywhere. As we can have only either NA, FE or  HE, we eliminate FE and HE because both match with \\[DEF\\]. That leaves only NA, and only N overlaps with \\[DEF\\]\\[MNO\\]*.\n",
    "4. T. The negation eliminates JUND from \\[JUNDT\\]*, which leaves T as the only option.\n",
    "5. P. We cross off \\[^DJNU\\] and OLK because the do not overlap between the two regexes. APA and P\\[ABC\\] gives two matches, A and P, so this does not give a final answer. so we look at P\\[ABC\\] and OPI, yielding P as the match.\n",
    "6. A. This is a tricky one. We can cross off FE, HE and \\[^DJNU\\], and P rightaway. B, V and N are also irrelevant. That leaves (A)\\[C\\] and \\[AC\\]. I suppose A is the differently grouped character, and it makes the most sense in combination with the other answers. \n",
    "7. N. N is the only overlap between the two regexes.\n",
    "8. I. OLK is crossed off first. APA and \\[ICAN\\]* gives AA as a match, which is not what we want, so we cross off APA as well. The only overlap between \\[ICAN\\]* and OPI is I. \n",
    "9. C. FE and HE are crossed off first. NA and \\[ICAN\\]* gives both C and A as a match, so NA is also eliminated. The only overlap between \\[CV\\] and \\[ICAN\\]* is C. \n",
    "\n",
    "Therefore the solution of the regex crossword is DONTPANIC. I would say this advice is quite suiting, albeit not very timely, since I was panicking a bit when trying to figure out part D a few hours earlier. "
   ]
  }
 ],
 "metadata": {
  "kernelspec": {
   "display_name": "Python 3",
   "language": "python",
   "name": "python3"
  },
  "language_info": {
   "codemirror_mode": {
    "name": "ipython",
    "version": 3
   },
   "file_extension": ".py",
   "mimetype": "text/x-python",
   "name": "python",
   "nbconvert_exporter": "python",
   "pygments_lexer": "ipython3",
   "version": "3.8.8"
  }
 },
 "nbformat": 4,
 "nbformat_minor": 5
}
